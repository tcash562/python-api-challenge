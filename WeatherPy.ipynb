{
 "cells": [
  {
   "cell_type": "markdown",
   "metadata": {},
   "source": [
    "# WeatherPy\n",
    "----\n",
    "\n",
    "#### Note\n",
    "* Instructions have been included for each segment. You do not have to follow them exactly, but they are included to help you think through the steps."
   ]
  },
  {
   "cell_type": "code",
   "execution_count": 1,
   "metadata": {
    "scrolled": true
   },
   "outputs": [],
   "source": [
    "# Dependencies and Setup\n",
    "import matplotlib.pyplot as plt\n",
    "import pandas as pd\n",
    "import numpy as np\n",
    "import requests\n",
    "import time\n",
    "from scipy.stats import linregress\n",
    "\n",
    "# Import API key\n",
    "from api_keys import weather_api_key\n",
    "\n",
    "# Incorporated citipy to determine city based on latitude and longitude\n",
    "from citipy import citipy\n",
    "\n",
    "# Output File (CSV)\n",
    "output_data_file = \"../output_data/cities.csv\"\n",
    "\n",
    "# Range of latitudes and longitudes\n",
    "lat_range = (-90, 90)\n",
    "lng_range = (-180, 180)"
   ]
  },
  {
   "cell_type": "markdown",
   "metadata": {},
   "source": [
    "## Generate Cities List"
   ]
  },
  {
   "cell_type": "code",
   "execution_count": 2,
   "metadata": {},
   "outputs": [
    {
     "data": {
      "text/plain": [
       "602"
      ]
     },
     "execution_count": 2,
     "metadata": {},
     "output_type": "execute_result"
    }
   ],
   "source": [
    "# List for holding lat_lngs and cities\n",
    "lat_lngs = []\n",
    "cities = []\n",
    "\n",
    "# Create a set of random lat and lng combinations\n",
    "lats = np.random.uniform(lat_range[0], lat_range[1], size=1500)\n",
    "lngs = np.random.uniform(lng_range[0], lng_range[1], size=1500)\n",
    "lat_lngs = zip(lats, lngs)\n",
    "\n",
    "# Identify nearest city for each lat, lng combination\n",
    "for lat_lng in lat_lngs:\n",
    "    city = citipy.nearest_city(lat_lng[0], lat_lng[1]).city_name\n",
    "    \n",
    "    # If the city is unique, then add it to a our cities list\n",
    "    if city not in cities:\n",
    "        cities.append(city)\n",
    "\n",
    "# Print the city count to confirm sufficient count\n",
    "len(cities)"
   ]
  },
  {
   "cell_type": "markdown",
   "metadata": {},
   "source": [
    "### Perform API Calls\n",
    "* Perform a weather check on each city using a series of successive API calls.\n",
    "* Include a print log of each city as it'sbeing processed (with the city number and city name).\n"
   ]
  },
  {
   "cell_type": "code",
   "execution_count": 3,
   "metadata": {},
   "outputs": [
    {
     "name": "stdout",
     "output_type": "stream",
     "text": [
      "Beginning Data Retrieval\n",
      "-----------------------------\n",
      "Processing Record 1 of Set 1 | carnarvon\n",
      "City not found. Skipping...\n",
      "Processing Record 2 of Set 2 | hervey bay\n",
      "Processing Record 3 of Set 3 | port elizabeth\n",
      "Processing Record 4 of Set 4 | rio bananal\n",
      "Processing Record 5 of Set 5 | roald\n",
      "Processing Record 6 of Set 6 | bogdanita\n",
      "Processing Record 7 of Set 7 | rocha\n",
      "Processing Record 8 of Set 8 | vaini\n",
      "Processing Record 9 of Set 9 | bluff\n",
      "Processing Record 10 of Set 10 | upernavik\n",
      "Processing Record 11 of Set 11 | provideniya\n",
      "Processing Record 12 of Set 12 | lavrentiya\n",
      "Processing Record 13 of Set 13 | mar del plata\n",
      "Processing Record 14 of Set 14 | ushuaia\n",
      "Processing Record 15 of Set 15 | kovur\n",
      "Processing Record 16 of Set 16 | avarua\n",
      "Processing Record 17 of Set 17 | thompson\n",
      "Processing Record 18 of Set 18 | port alfred\n",
      "Processing Record 19 of Set 19 | castro\n",
      "Processing Record 20 of Set 20 | mildura\n",
      "Processing Record 21 of Set 21 | puerto ayora\n",
      "Processing Record 22 of Set 22 | cape town\n",
      "Processing Record 23 of Set 23 | kamaishi\n",
      "Processing Record 24 of Set 24 | acapulco\n",
      "Processing Record 25 of Set 25 | grimshaw\n",
      "Processing Record 26 of Set 26 | lompoc\n",
      "Processing Record 27 of Set 27 | requena\n",
      "Processing Record 28 of Set 28 | vardo\n",
      "Processing Record 29 of Set 29 | ranong\n",
      "Processing Record 30 of Set 30 | port hardy\n",
      "Processing Record 31 of Set 31 | cloquet\n",
      "Processing Record 32 of Set 32 | mount isa\n",
      "Processing Record 33 of Set 33 | rikitea\n",
      "Processing Record 34 of Set 34 | ancud\n",
      "Processing Record 35 of Set 35 | bredasdorp\n",
      "Processing Record 36 of Set 36 | tuktoyaktuk\n",
      "Processing Record 37 of Set 37 | cabo san lucas\n",
      "Processing Record 38 of Set 38 | north battleford\n",
      "Processing Record 39 of Set 39 | barrow\n",
      "Processing Record 40 of Set 40 | arraial do cabo\n",
      "Processing Record 41 of Set 41 | nanortalik\n",
      "Processing Record 42 of Set 42 | punta arenas\n",
      "Processing Record 43 of Set 43 | shemonaikha\n",
      "Processing Record 44 of Set 44 | valdivia\n",
      "Processing Record 45 of Set 45 | chokurdakh\n",
      "Processing Record 46 of Set 46 | chuy\n",
      "Processing Record 47 of Set 47 | kaitangata\n",
      "City not found. Skipping...\n",
      "Processing Record 48 of Set 48 | mataura\n",
      "Processing Record 49 of Set 49 | nyurba\n",
      "Processing Record 50 of Set 50 | tawang\n",
      "Processing Record 51 of Set 51 | tiksi\n",
      "Processing Record 52 of Set 52 | atuona\n",
      "Processing Record 53 of Set 53 | valleyview\n",
      "Processing Record 54 of Set 54 | mattru\n",
      "Processing Record 55 of Set 55 | ribeira grande\n",
      "Processing Record 56 of Set 56 | cabra\n",
      "Processing Record 57 of Set 57 | richards bay\n",
      "Processing Record 58 of Set 58 | ipixuna\n",
      "Processing Record 59 of Set 59 | hobart\n",
      "Processing Record 60 of Set 60 | mahebourg\n",
      "Processing Record 61 of Set 61 | busselton\n",
      "Processing Record 62 of Set 62 | verkhoyansk\n",
      "Processing Record 63 of Set 63 | half moon bay\n",
      "Processing Record 64 of Set 64 | kisangani\n",
      "Processing Record 65 of Set 65 | new norfolk\n",
      "Processing Record 66 of Set 66 | bayan\n",
      "Processing Record 67 of Set 67 | qaanaaq\n",
      "Processing Record 68 of Set 68 | jamestown\n",
      "Processing Record 69 of Set 69 | bandar-e lengeh\n",
      "Processing Record 70 of Set 70 | conceicao do araguaia\n",
      "Processing Record 71 of Set 71 | kapaa\n",
      "Processing Record 72 of Set 72 | hermanus\n",
      "Processing Record 73 of Set 73 | albany\n",
      "Processing Record 74 of Set 74 | hofn\n",
      "Processing Record 75 of Set 75 | butaritari\n",
      "Processing Record 76 of Set 76 | khandbari\n",
      "Processing Record 77 of Set 77 | gigmoto\n",
      "Processing Record 78 of Set 78 | salalah\n",
      "City not found. Skipping...\n",
      "Processing Record 79 of Set 79 | ilulissat\n",
      "Processing Record 80 of Set 80 | mecca\n",
      "Processing Record 81 of Set 81 | saldanha\n",
      "Processing Record 82 of Set 82 | kamenka\n",
      "Processing Record 83 of Set 83 | geraldton\n",
      "Processing Record 84 of Set 84 | coquimbo\n",
      "Processing Record 85 of Set 85 | kabul\n",
      "Processing Record 86 of Set 86 | rio gallegos\n",
      "Processing Record 87 of Set 87 | broken hill\n",
      "City not found. Skipping...\n",
      "Processing Record 88 of Set 88 | namatanai\n",
      "Processing Record 89 of Set 89 | praia da vitoria\n",
      "Processing Record 90 of Set 90 | yellowknife\n",
      "Processing Record 91 of Set 91 | port hedland\n",
      "Processing Record 92 of Set 92 | alice springs\n",
      "Processing Record 93 of Set 93 | lashio\n",
      "Processing Record 94 of Set 94 | raahe\n",
      "Processing Record 95 of Set 95 | coahuayana\n",
      "Processing Record 96 of Set 96 | bandarbeyla\n",
      "Processing Record 97 of Set 97 | halifax\n",
      "Processing Record 98 of Set 98 | ca mau\n",
      "Processing Record 99 of Set 99 | turinsk\n",
      "City not found. Skipping...\n",
      "Processing Record 100 of Set 100 | kendari\n",
      "Processing Record 101 of Set 101 | dunedin\n",
      "Processing Record 102 of Set 102 | kahului\n",
      "Processing Record 103 of Set 103 | clyde river\n",
      "Processing Record 104 of Set 104 | makat\n",
      "Processing Record 105 of Set 105 | andilamena\n",
      "City not found. Skipping...\n",
      "Processing Record 106 of Set 106 | jamuria\n",
      "Processing Record 107 of Set 107 | esperance\n",
      "Processing Record 108 of Set 108 | severo-kurilsk\n",
      "Processing Record 109 of Set 109 | komsomolskiy\n",
      "Processing Record 110 of Set 110 | codrington\n",
      "Processing Record 111 of Set 111 | sao sepe\n",
      "Processing Record 112 of Set 112 | dikson\n",
      "Processing Record 113 of Set 113 | boke\n",
      "City not found. Skipping...\n",
      "Processing Record 114 of Set 114 | asau\n",
      "Processing Record 115 of Set 115 | kuytun\n",
      "Processing Record 116 of Set 116 | hithadhoo\n",
      "City not found. Skipping...\n",
      "Processing Record 117 of Set 117 | kruisfontein\n",
      "Processing Record 118 of Set 118 | lebu\n",
      "Processing Record 119 of Set 119 | agadir\n",
      "Processing Record 120 of Set 120 | erenhot\n",
      "City not found. Skipping...\n",
      "Processing Record 121 of Set 121 | narsaq\n",
      "Processing Record 122 of Set 122 | bansang\n",
      "Processing Record 123 of Set 123 | uthal\n",
      "Processing Record 124 of Set 124 | entre rios\n",
      "Processing Record 125 of Set 125 | inhambane\n",
      "Processing Record 126 of Set 126 | bima\n",
      "Processing Record 127 of Set 127 | sao filipe\n",
      "Processing Record 128 of Set 128 | stryn\n",
      "Processing Record 129 of Set 129 | victoria\n",
      "Processing Record 130 of Set 130 | east london\n",
      "Processing Record 131 of Set 131 | ternate\n",
      "City not found. Skipping...\n",
      "Processing Record 132 of Set 132 | caravelas\n",
      "Processing Record 133 of Set 133 | mingyue\n",
      "Processing Record 134 of Set 134 | bawku\n",
      "Processing Record 135 of Set 135 | husavik\n",
      "Processing Record 136 of Set 136 | luderitz\n",
      "Processing Record 137 of Set 137 | palu\n",
      "Processing Record 138 of Set 138 | georgetown\n",
      "Processing Record 139 of Set 139 | khatanga\n",
      "City not found. Skipping...\n",
      "Processing Record 140 of Set 140 | campbell river\n",
      "Processing Record 141 of Set 141 | sambava\n",
      "Processing Record 142 of Set 142 | garowe\n",
      "Processing Record 143 of Set 143 | najran\n",
      "Processing Record 144 of Set 144 | mahibadhoo\n",
      "Processing Record 145 of Set 145 | marsa matruh\n",
      "Processing Record 146 of Set 146 | mapiripan\n",
      "Processing Record 147 of Set 147 | saint anthony\n",
      "Processing Record 148 of Set 148 | matara\n",
      "City not found. Skipping...\n",
      "Processing Record 149 of Set 149 | lanzhou\n",
      "Processing Record 150 of Set 150 | poum\n",
      "City not found. Skipping...\n",
      "Processing Record 151 of Set 151 | nome\n",
      "Processing Record 152 of Set 152 | airai\n",
      "Processing Record 153 of Set 153 | brigantine\n",
      "Processing Record 154 of Set 154 | bethel\n",
      "Processing Record 155 of Set 155 | hasaki\n",
      "Processing Record 156 of Set 156 | elizabeth city\n",
      "Processing Record 157 of Set 157 | yokadouma\n",
      "Processing Record 158 of Set 158 | shingu\n",
      "Processing Record 159 of Set 159 | tilichiki\n",
      "Processing Record 160 of Set 160 | leningradskiy\n",
      "Processing Record 161 of Set 161 | mayo\n",
      "City not found. Skipping...\n",
      "City not found. Skipping...\n",
      "Processing Record 162 of Set 162 | buin\n",
      "Processing Record 163 of Set 163 | yulara\n",
      "Processing Record 164 of Set 164 | okha\n",
      "Processing Record 165 of Set 165 | barra patuca\n",
      "Processing Record 166 of Set 166 | saint george\n",
      "Processing Record 167 of Set 167 | lokosovo\n",
      "Processing Record 168 of Set 168 | ponta delgada\n",
      "Processing Record 169 of Set 169 | souillac\n",
      "Processing Record 170 of Set 170 | rio grande\n",
      "Processing Record 171 of Set 171 | bengkulu\n",
      "Processing Record 172 of Set 172 | hargeysa\n",
      "Processing Record 173 of Set 173 | tuatapere\n",
      "City not found. Skipping...\n",
      "Processing Record 174 of Set 174 | karema\n",
      "Processing Record 175 of Set 175 | cidreira\n",
      "Processing Record 176 of Set 176 | tanete\n",
      "Processing Record 177 of Set 177 | nuuk\n",
      "Processing Record 178 of Set 178 | aripuana\n",
      "Processing Record 179 of Set 179 | saskylakh\n",
      "Processing Record 180 of Set 180 | karratha\n"
     ]
    },
    {
     "name": "stdout",
     "output_type": "stream",
     "text": [
      "Processing Record 181 of Set 181 | ivrea\n",
      "Processing Record 182 of Set 182 | opuwo\n",
      "Processing Record 183 of Set 183 | jacksonville\n",
      "Processing Record 184 of Set 184 | bang len\n",
      "Processing Record 185 of Set 185 | longyearbyen\n",
      "Processing Record 186 of Set 186 | durango\n",
      "Processing Record 187 of Set 187 | cumana\n",
      "Processing Record 188 of Set 188 | vao\n",
      "Processing Record 189 of Set 189 | cherskiy\n",
      "Processing Record 190 of Set 190 | sofiyivka\n",
      "Processing Record 191 of Set 191 | flin flon\n",
      "Processing Record 192 of Set 192 | bukama\n",
      "Processing Record 193 of Set 193 | namibe\n",
      "Processing Record 194 of Set 194 | vila franca do campo\n",
      "Processing Record 195 of Set 195 | san jose\n",
      "City not found. Skipping...\n",
      "Processing Record 196 of Set 196 | bodden town\n",
      "Processing Record 197 of Set 197 | arman\n",
      "Processing Record 198 of Set 198 | klaksvik\n",
      "City not found. Skipping...\n",
      "City not found. Skipping...\n",
      "Processing Record 199 of Set 199 | talnakh\n",
      "Processing Record 200 of Set 200 | cairns\n",
      "Processing Record 201 of Set 201 | kutum\n",
      "Processing Record 202 of Set 202 | ahipara\n",
      "Processing Record 203 of Set 203 | canaries\n",
      "Processing Record 204 of Set 204 | adrar\n",
      "Processing Record 205 of Set 205 | moose factory\n",
      "Processing Record 206 of Set 206 | majenang\n",
      "Processing Record 207 of Set 207 | urucara\n",
      "Processing Record 208 of Set 208 | constitucion\n",
      "Processing Record 209 of Set 209 | makakilo city\n",
      "Processing Record 210 of Set 210 | katsuura\n",
      "Processing Record 211 of Set 211 | lagoa\n",
      "Processing Record 212 of Set 212 | felipe carrillo puerto\n",
      "Processing Record 213 of Set 213 | buraydah\n",
      "Processing Record 214 of Set 214 | pevek\n",
      "Processing Record 215 of Set 215 | alofi\n",
      "Processing Record 216 of Set 216 | yen bai\n",
      "Processing Record 217 of Set 217 | margate\n",
      "Processing Record 218 of Set 218 | lahad datu\n",
      "City not found. Skipping...\n",
      "City not found. Skipping...\n",
      "Processing Record 219 of Set 219 | cap malheureux\n",
      "Processing Record 220 of Set 220 | saint-philippe\n",
      "Processing Record 221 of Set 221 | olkhovatka\n",
      "City not found. Skipping...\n",
      "Processing Record 222 of Set 222 | taree\n",
      "City not found. Skipping...\n",
      "Processing Record 223 of Set 223 | anito\n",
      "Processing Record 224 of Set 224 | ponta do sol\n",
      "Processing Record 225 of Set 225 | pisco\n",
      "Processing Record 226 of Set 226 | hilo\n",
      "City not found. Skipping...\n",
      "Processing Record 227 of Set 227 | bathsheba\n",
      "Processing Record 228 of Set 228 | berlevag\n",
      "Processing Record 229 of Set 229 | lorengau\n",
      "Processing Record 230 of Set 230 | bosaso\n",
      "Processing Record 231 of Set 231 | sao joao da barra\n",
      "Processing Record 232 of Set 232 | warrnambool\n",
      "Processing Record 233 of Set 233 | ajaccio\n",
      "Processing Record 234 of Set 234 | iqaluit\n",
      "City not found. Skipping...\n",
      "Processing Record 235 of Set 235 | leeton\n",
      "Processing Record 236 of Set 236 | hami\n",
      "Processing Record 237 of Set 237 | tiarei\n",
      "Processing Record 238 of Set 238 | champerico\n",
      "Processing Record 239 of Set 239 | nikolskoye\n",
      "Processing Record 240 of Set 240 | faya\n",
      "Processing Record 241 of Set 241 | grindavik\n",
      "Processing Record 242 of Set 242 | mogadouro\n",
      "Processing Record 243 of Set 243 | salinopolis\n",
      "Processing Record 244 of Set 244 | mulege\n",
      "Processing Record 245 of Set 245 | andenes\n",
      "Processing Record 246 of Set 246 | kloulklubed\n",
      "Processing Record 247 of Set 247 | rio verde de mato grosso\n",
      "Processing Record 248 of Set 248 | cayenne\n",
      "Processing Record 249 of Set 249 | the valley\n",
      "Processing Record 250 of Set 250 | faanui\n",
      "Processing Record 251 of Set 251 | yinchuan\n",
      "Processing Record 252 of Set 252 | korla\n",
      "Processing Record 253 of Set 253 | hambantota\n",
      "Processing Record 254 of Set 254 | vila velha\n",
      "Processing Record 255 of Set 255 | san quintin\n",
      "Processing Record 256 of Set 256 | irbeyskoye\n",
      "Processing Record 257 of Set 257 | san cristobal\n",
      "Processing Record 258 of Set 258 | necochea\n",
      "Processing Record 259 of Set 259 | koroni\n",
      "Processing Record 260 of Set 260 | yarmouth\n",
      "City not found. Skipping...\n",
      "Processing Record 261 of Set 261 | preobrazheniye\n",
      "Processing Record 262 of Set 262 | matayumtayum\n",
      "Processing Record 263 of Set 263 | zhongxing\n",
      "Processing Record 264 of Set 264 | tessalit\n",
      "Processing Record 265 of Set 265 | barao de melgaco\n",
      "Processing Record 266 of Set 266 | road town\n",
      "Processing Record 267 of Set 267 | acarau\n",
      "Processing Record 268 of Set 268 | zhanaozen\n",
      "Processing Record 269 of Set 269 | fairbanks\n",
      "City not found. Skipping...\n",
      "Processing Record 270 of Set 270 | dir\n",
      "City not found. Skipping...\n",
      "Processing Record 271 of Set 271 | balikpapan\n",
      "Processing Record 272 of Set 272 | egvekinot\n",
      "Processing Record 273 of Set 273 | vostok\n",
      "Processing Record 274 of Set 274 | mangan\n",
      "Processing Record 275 of Set 275 | high level\n",
      "Processing Record 276 of Set 276 | boa vista\n",
      "Processing Record 277 of Set 277 | emba\n",
      "Processing Record 278 of Set 278 | maraa\n",
      "Processing Record 279 of Set 279 | ouango\n",
      "Processing Record 280 of Set 280 | elko\n",
      "Processing Record 281 of Set 281 | krasnyy chikoy\n",
      "Processing Record 282 of Set 282 | bambous virieux\n",
      "Processing Record 283 of Set 283 | henties bay\n",
      "City not found. Skipping...\n",
      "Processing Record 284 of Set 284 | surt\n",
      "City not found. Skipping...\n",
      "Processing Record 285 of Set 285 | moshi\n",
      "Processing Record 286 of Set 286 | barranco\n",
      "Processing Record 287 of Set 287 | inta\n",
      "Processing Record 288 of Set 288 | pala\n",
      "Processing Record 289 of Set 289 | ust-ilimsk\n",
      "Processing Record 290 of Set 290 | kourou\n",
      "Processing Record 291 of Set 291 | santa lucia\n",
      "Processing Record 292 of Set 292 | san patricio\n",
      "City not found. Skipping...\n",
      "Processing Record 293 of Set 293 | moussoro\n",
      "Processing Record 294 of Set 294 | belousovka\n",
      "City not found. Skipping...\n",
      "Processing Record 295 of Set 295 | zomba\n",
      "Processing Record 296 of Set 296 | jinchang\n",
      "Processing Record 297 of Set 297 | bolshaya sosnova\n",
      "Processing Record 298 of Set 298 | doka\n",
      "Processing Record 299 of Set 299 | viana\n",
      "Processing Record 300 of Set 300 | bjelovar\n",
      "Processing Record 301 of Set 301 | kodiak\n",
      "Processing Record 302 of Set 302 | rochegda\n",
      "Processing Record 303 of Set 303 | livingstone\n",
      "Processing Record 304 of Set 304 | hurghada\n",
      "Processing Record 305 of Set 305 | port macquarie\n",
      "Processing Record 306 of Set 306 | ambilobe\n",
      "Processing Record 307 of Set 307 | grand gaube\n",
      "Processing Record 308 of Set 308 | kalmunai\n",
      "Processing Record 309 of Set 309 | miranda\n",
      "Processing Record 310 of Set 310 | hamilton\n",
      "Processing Record 311 of Set 311 | worland\n",
      "Processing Record 312 of Set 312 | puerto rico\n",
      "Processing Record 313 of Set 313 | manono\n",
      "Processing Record 314 of Set 314 | zhigansk\n",
      "Processing Record 315 of Set 315 | ixtapa\n",
      "Processing Record 316 of Set 316 | makokou\n",
      "Processing Record 317 of Set 317 | jinxiang\n",
      "City not found. Skipping...\n",
      "Processing Record 318 of Set 318 | kavieng\n",
      "Processing Record 319 of Set 319 | paranga\n",
      "Processing Record 320 of Set 320 | harrisburg\n",
      "Processing Record 321 of Set 321 | iglesias\n",
      "Processing Record 322 of Set 322 | ilhabela\n",
      "Processing Record 323 of Set 323 | saint-augustin\n",
      "Processing Record 324 of Set 324 | bara\n",
      "Processing Record 325 of Set 325 | calderitas\n",
      "Processing Record 326 of Set 326 | beringovskiy\n",
      "Processing Record 327 of Set 327 | iranshahr\n",
      "Processing Record 328 of Set 328 | samarai\n",
      "Processing Record 329 of Set 329 | presidencia roque saenz pena\n",
      "City not found. Skipping...\n",
      "Processing Record 330 of Set 330 | stavern\n",
      "Processing Record 331 of Set 331 | pocoes\n",
      "Processing Record 332 of Set 332 | hamina\n",
      "Processing Record 333 of Set 333 | baghdad\n",
      "Processing Record 334 of Set 334 | griffith\n",
      "Processing Record 335 of Set 335 | nakamura\n",
      "Processing Record 336 of Set 336 | kalengwa\n",
      "City not found. Skipping...\n",
      "Processing Record 337 of Set 337 | kenai\n",
      "Processing Record 338 of Set 338 | inyonga\n",
      "City not found. Skipping...\n",
      "Processing Record 339 of Set 339 | ascension\n",
      "Processing Record 340 of Set 340 | uch\n",
      "Processing Record 341 of Set 341 | morros\n",
      "Processing Record 342 of Set 342 | oistins\n",
      "Processing Record 343 of Set 343 | te anau\n",
      "Processing Record 344 of Set 344 | biak\n",
      "Processing Record 345 of Set 345 | camacha\n",
      "Processing Record 346 of Set 346 | rahimatpur\n",
      "Processing Record 347 of Set 347 | manta\n",
      "Processing Record 348 of Set 348 | port blair\n",
      "Processing Record 349 of Set 349 | tahe\n",
      "Processing Record 350 of Set 350 | muli\n",
      "Processing Record 351 of Set 351 | harper\n",
      "Processing Record 352 of Set 352 | tommot\n",
      "Processing Record 353 of Set 353 | north myrtle beach\n",
      "Processing Record 354 of Set 354 | guerrero negro\n"
     ]
    },
    {
     "name": "stdout",
     "output_type": "stream",
     "text": [
      "Processing Record 355 of Set 355 | eyl\n",
      "Processing Record 356 of Set 356 | vanimo\n",
      "Processing Record 357 of Set 357 | maragogi\n",
      "Processing Record 358 of Set 358 | ceres\n",
      "City not found. Skipping...\n",
      "City not found. Skipping...\n",
      "Processing Record 359 of Set 359 | awbari\n",
      "City not found. Skipping...\n",
      "Processing Record 360 of Set 360 | atar\n",
      "Processing Record 361 of Set 361 | havoysund\n",
      "Processing Record 362 of Set 362 | havre-saint-pierre\n",
      "Processing Record 363 of Set 363 | bouna\n",
      "Processing Record 364 of Set 364 | kathmandu\n",
      "Processing Record 365 of Set 365 | kingsport\n",
      "City not found. Skipping...\n",
      "Processing Record 366 of Set 366 | ulladulla\n",
      "City not found. Skipping...\n",
      "Processing Record 367 of Set 367 | port lincoln\n",
      "Processing Record 368 of Set 368 | alexandria\n",
      "Processing Record 369 of Set 369 | sakyla\n",
      "Processing Record 370 of Set 370 | kirakira\n",
      "Processing Record 371 of Set 371 | ambovombe\n",
      "Processing Record 372 of Set 372 | newark\n",
      "Processing Record 373 of Set 373 | navirai\n",
      "Processing Record 374 of Set 374 | teguldet\n",
      "Processing Record 375 of Set 375 | swan hill\n",
      "Processing Record 376 of Set 376 | torbay\n",
      "Processing Record 377 of Set 377 | ust-nera\n",
      "Processing Record 378 of Set 378 | bakchar\n",
      "Processing Record 379 of Set 379 | ballina\n",
      "Processing Record 380 of Set 380 | ratangarh\n",
      "City not found. Skipping...\n",
      "Processing Record 381 of Set 381 | huntingdon\n",
      "Processing Record 382 of Set 382 | khartoum\n",
      "Processing Record 383 of Set 383 | varkaus\n",
      "City not found. Skipping...\n",
      "Processing Record 384 of Set 384 | chapais\n",
      "Processing Record 385 of Set 385 | sprockhovel\n",
      "Processing Record 386 of Set 386 | wielun\n",
      "Processing Record 387 of Set 387 | bose\n",
      "City not found. Skipping...\n",
      "Processing Record 388 of Set 388 | jiuquan\n",
      "Processing Record 389 of Set 389 | wahiawa\n",
      "Processing Record 390 of Set 390 | apricena\n",
      "Processing Record 391 of Set 391 | batouri\n",
      "Processing Record 392 of Set 392 | viedma\n",
      "Processing Record 393 of Set 393 | mackay\n",
      "Processing Record 394 of Set 394 | college\n",
      "Processing Record 395 of Set 395 | tarquinia\n",
      "City not found. Skipping...\n",
      "Processing Record 396 of Set 396 | abha\n",
      "Processing Record 397 of Set 397 | palmer\n",
      "Processing Record 398 of Set 398 | arenys de mar\n",
      "Processing Record 399 of Set 399 | sosua\n",
      "Processing Record 400 of Set 400 | zhezkazgan\n",
      "Processing Record 401 of Set 401 | portland\n",
      "Processing Record 402 of Set 402 | naze\n",
      "Processing Record 403 of Set 403 | nishihara\n",
      "Processing Record 404 of Set 404 | batagay-alyta\n",
      "Processing Record 405 of Set 405 | benghazi\n",
      "Processing Record 406 of Set 406 | ngama\n",
      "Processing Record 407 of Set 407 | los llanos de aridane\n",
      "Processing Record 408 of Set 408 | sakaiminato\n",
      "Processing Record 409 of Set 409 | artyom\n",
      "Processing Record 410 of Set 410 | bauchi\n",
      "Processing Record 411 of Set 411 | olafsvik\n",
      "Processing Record 412 of Set 412 | rohatyn\n",
      "Processing Record 413 of Set 413 | marsh harbour\n",
      "Processing Record 414 of Set 414 | okato\n",
      "Processing Record 415 of Set 415 | katherine\n",
      "Processing Record 416 of Set 416 | buala\n",
      "Processing Record 417 of Set 417 | bressuire\n",
      "Processing Record 418 of Set 418 | babati\n",
      "Processing Record 419 of Set 419 | kjollefjord\n",
      "Processing Record 420 of Set 420 | nova olinda do norte\n",
      "City not found. Skipping...\n",
      "Processing Record 421 of Set 421 | solenzo\n",
      "Processing Record 422 of Set 422 | anta\n",
      "Processing Record 423 of Set 423 | aklavik\n",
      "Processing Record 424 of Set 424 | dzilam gonzalez\n",
      "City not found. Skipping...\n",
      "Processing Record 425 of Set 425 | laguna\n",
      "City not found. Skipping...\n",
      "Processing Record 426 of Set 426 | avera\n",
      "Processing Record 427 of Set 427 | bereda\n",
      "Processing Record 428 of Set 428 | jalu\n",
      "Processing Record 429 of Set 429 | baherden\n",
      "City not found. Skipping...\n",
      "Processing Record 430 of Set 430 | flinders\n",
      "Processing Record 431 of Set 431 | nhulunbuy\n",
      "Processing Record 432 of Set 432 | radhanpur\n",
      "Processing Record 433 of Set 433 | port-gentil\n",
      "Processing Record 434 of Set 434 | coachella\n",
      "Processing Record 435 of Set 435 | lobito\n",
      "Processing Record 436 of Set 436 | hualmay\n",
      "Processing Record 437 of Set 437 | sitka\n",
      "Processing Record 438 of Set 438 | mahon\n",
      "Processing Record 439 of Set 439 | eskil\n",
      "Processing Record 440 of Set 440 | treinta y tres\n",
      "Processing Record 441 of Set 441 | gazanjyk\n",
      "Processing Record 442 of Set 442 | cochrane\n",
      "Processing Record 443 of Set 443 | leh\n",
      "Processing Record 444 of Set 444 | san jorge\n",
      "City not found. Skipping...\n",
      "Processing Record 445 of Set 445 | aswan\n",
      "Processing Record 446 of Set 446 | kibondo\n",
      "Processing Record 447 of Set 447 | redding\n",
      "Processing Record 448 of Set 448 | ushtobe\n",
      "Processing Record 449 of Set 449 | ginir\n",
      "Processing Record 450 of Set 450 | teguise\n",
      "Processing Record 451 of Set 451 | panzhihua\n",
      "Processing Record 452 of Set 452 | sorland\n",
      "Processing Record 453 of Set 453 | severnoye\n",
      "Processing Record 454 of Set 454 | lakatoro\n",
      "Processing Record 455 of Set 455 | norman wells\n",
      "Processing Record 456 of Set 456 | bom jardim\n",
      "Processing Record 457 of Set 457 | varca\n",
      "Processing Record 458 of Set 458 | gemena\n",
      "Processing Record 459 of Set 459 | nybro\n",
      "Processing Record 460 of Set 460 | tasiilaq\n",
      "Processing Record 461 of Set 461 | noumea\n",
      "Processing Record 462 of Set 462 | wuchang\n",
      "Processing Record 463 of Set 463 | dzhubga\n",
      "Processing Record 464 of Set 464 | burnie\n",
      "Processing Record 465 of Set 465 | weymouth\n",
      "Processing Record 466 of Set 466 | san juan\n",
      "Processing Record 467 of Set 467 | zyryanka\n",
      "Processing Record 468 of Set 468 | kattivakkam\n",
      "Processing Record 469 of Set 469 | lampazos de naranjo\n",
      "Processing Record 470 of Set 470 | lasa\n",
      "Processing Record 471 of Set 471 | ambon\n",
      "Processing Record 472 of Set 472 | sakakah\n",
      "Processing Record 473 of Set 473 | lishui\n",
      "Processing Record 474 of Set 474 | zhengjiatun\n",
      "Processing Record 475 of Set 475 | bafoulabe\n",
      "Processing Record 476 of Set 476 | sola\n",
      "Processing Record 477 of Set 477 | suntar\n",
      "City not found. Skipping...\n",
      "Processing Record 478 of Set 478 | vinh\n",
      "Processing Record 479 of Set 479 | doha\n",
      "Processing Record 480 of Set 480 | coihaique\n",
      "Processing Record 481 of Set 481 | canon city\n",
      "Processing Record 482 of Set 482 | nizhnyaya omka\n",
      "Processing Record 483 of Set 483 | carballo\n",
      "Processing Record 484 of Set 484 | cozumel\n",
      "Processing Record 485 of Set 485 | pismo beach\n",
      "Processing Record 486 of Set 486 | pareora\n",
      "Processing Record 487 of Set 487 | kununurra\n",
      "Processing Record 488 of Set 488 | mondlo\n",
      "Processing Record 489 of Set 489 | suez\n",
      "Processing Record 490 of Set 490 | xai-xai\n",
      "Processing Record 491 of Set 491 | xuddur\n",
      "Processing Record 492 of Set 492 | akhaldaba\n",
      "Processing Record 493 of Set 493 | mandan\n",
      "Processing Record 494 of Set 494 | itarema\n",
      "City not found. Skipping...\n",
      "Processing Record 495 of Set 495 | timizart\n",
      "Processing Record 496 of Set 496 | sangar\n",
      "Processing Record 497 of Set 497 | auki\n",
      "City not found. Skipping...\n",
      "Processing Record 498 of Set 498 | port shepstone\n",
      "Processing Record 499 of Set 499 | bullhead city\n",
      "Processing Record 500 of Set 500 | maniitsoq\n",
      "City not found. Skipping...\n",
      "Processing Record 501 of Set 501 | lahat\n",
      "Processing Record 502 of Set 502 | brae\n",
      "Processing Record 503 of Set 503 | noshiro\n",
      "Processing Record 504 of Set 504 | pasni\n",
      "Processing Record 505 of Set 505 | sioux lookout\n",
      "Processing Record 506 of Set 506 | saraland\n",
      "Processing Record 507 of Set 507 | waipawa\n",
      "Processing Record 508 of Set 508 | zorritos\n",
      "Processing Record 509 of Set 509 | mehamn\n",
      "Processing Record 510 of Set 510 | tamandare\n",
      "Processing Record 511 of Set 511 | maxixe\n",
      "Processing Record 512 of Set 512 | iberia\n",
      "Processing Record 513 of Set 513 | ugoofaaru\n",
      "Processing Record 514 of Set 514 | manzhouli\n",
      "Processing Record 515 of Set 515 | zhaotong\n",
      "Processing Record 516 of Set 516 | baker city\n",
      "Processing Record 517 of Set 517 | zalari\n",
      "Processing Record 518 of Set 518 | kudahuvadhoo\n",
      "Processing Record 519 of Set 519 | cabinda\n",
      "City not found. Skipping...\n",
      "Processing Record 520 of Set 520 | olinda\n",
      "Processing Record 521 of Set 521 | mafinga\n",
      "Processing Record 522 of Set 522 | gorontalo\n",
      "Processing Record 523 of Set 523 | lillooet\n",
      "Processing Record 524 of Set 524 | tartus\n",
      "Processing Record 525 of Set 525 | poso\n",
      "Processing Record 526 of Set 526 | jasper\n",
      "City not found. Skipping...\n",
      "Processing Record 527 of Set 527 | rafaela\n",
      "Processing Record 528 of Set 528 | lashma\n",
      "Processing Record 529 of Set 529 | yantal\n"
     ]
    },
    {
     "name": "stdout",
     "output_type": "stream",
     "text": [
      "Processing Record 530 of Set 530 | yenagoa\n",
      "Processing Record 531 of Set 531 | alta floresta\n",
      "City not found. Skipping...\n",
      "Processing Record 532 of Set 532 | bontang\n",
      "Processing Record 533 of Set 533 | shaowu\n",
      "Processing Record 534 of Set 534 | sisimiut\n",
      "Processing Record 535 of Set 535 | kapuskasing\n",
      "Processing Record 536 of Set 536 | pangai\n",
      "Processing Record 537 of Set 537 | weiser\n",
      "Processing Record 538 of Set 538 | porto novo\n",
      "Processing Record 539 of Set 539 | nanakuli\n",
      "Processing Record 540 of Set 540 | nenjiang\n",
      "Processing Record 541 of Set 541 | katangli\n",
      "Processing Record 542 of Set 542 | neiafu\n",
      "Processing Record 543 of Set 543 | north bend\n",
      "Processing Record 544 of Set 544 | luba\n",
      "Processing Record 545 of Set 545 | shimoda\n",
      "-----------------------------\n",
      "Data Retrieval Complete\n",
      "-----------------------------\n"
     ]
    }
   ],
   "source": [
    "# Save config information.\n",
    "url = \"http://api.openweathermap.org/data/2.5/weather?units=Imperial&\"\n",
    "\n",
    "#Define lists \n",
    "city_name = []\n",
    "cloudy_list = []\n",
    "country_list = []\n",
    "dates = []\n",
    "humidity = []\n",
    "lats_list = []\n",
    "lngs_list = []\n",
    "max_temp = [] \n",
    "wind_speed = [] \n",
    "\n",
    "\n",
    "print(\"Beginning Data Retrieval\")\n",
    "print(\"-----------------------------\")\n",
    "\n",
    "count = 1\n",
    "for city in cities:\n",
    "    city=city\n",
    "    query_url = url + \"appid=\" + weather_api_key + \"&q=\" + city\n",
    "    \n",
    "    response = requests.get(query_url).json()\n",
    "    \n",
    "    try:        \n",
    "        city_name.append(response[\"name\"])\n",
    "        country_list.append(response[\"sys\"][\"country\"])\n",
    "        cloudy_list.append(response[\"clouds\"][\"all\"])\n",
    "        dates.append(response[\"dt\"])\n",
    "        humidity.append(response[\"main\"][\"humidity\"])\n",
    "        lats_list.append(response[\"coord\"][\"lat\"])\n",
    "        lngs_list.append(response[\"coord\"][\"lon\"])\n",
    "        max_temp.append(response['main']['temp_max'])\n",
    "        wind_speed.append(response[\"wind\"][\"speed\"])\n",
    "        print(f\"Processing Record {count} of Set {count} | {city}\")\n",
    "        count+=1        \n",
    "    except (KeyError):\n",
    "        print(\"City not found. Skipping...\")\n",
    "    \n",
    "print(\"-----------------------------\")\n",
    "print(\"Data Retrieval Complete\")\n",
    "print(\"-----------------------------\")"
   ]
  },
  {
   "cell_type": "markdown",
   "metadata": {},
   "source": [
    "### Convert Raw Data to DataFrame\n",
    "* Export the city data into a .csv.\n",
    "* Display the DataFrame"
   ]
  },
  {
   "cell_type": "code",
   "execution_count": 4,
   "metadata": {},
   "outputs": [
    {
     "data": {
      "text/html": [
       "<div>\n",
       "<style scoped>\n",
       "    .dataframe tbody tr th:only-of-type {\n",
       "        vertical-align: middle;\n",
       "    }\n",
       "\n",
       "    .dataframe tbody tr th {\n",
       "        vertical-align: top;\n",
       "    }\n",
       "\n",
       "    .dataframe thead th {\n",
       "        text-align: right;\n",
       "    }\n",
       "</style>\n",
       "<table border=\"1\" class=\"dataframe\">\n",
       "  <thead>\n",
       "    <tr style=\"text-align: right;\">\n",
       "      <th></th>\n",
       "      <th>City</th>\n",
       "      <th>Cloudiness</th>\n",
       "      <th>Country</th>\n",
       "      <th>Date</th>\n",
       "      <th>Humidity</th>\n",
       "      <th>Latitude</th>\n",
       "      <th>Longitude</th>\n",
       "      <th>Max Temp</th>\n",
       "      <th>Wind Speed</th>\n",
       "    </tr>\n",
       "  </thead>\n",
       "  <tbody>\n",
       "    <tr>\n",
       "      <th>0</th>\n",
       "      <td>Carnarvon</td>\n",
       "      <td>64</td>\n",
       "      <td>AU</td>\n",
       "      <td>1621730185</td>\n",
       "      <td>64</td>\n",
       "      <td>-24.8667</td>\n",
       "      <td>113.6333</td>\n",
       "      <td>73.47</td>\n",
       "      <td>11.50</td>\n",
       "    </tr>\n",
       "    <tr>\n",
       "      <th>1</th>\n",
       "      <td>Hervey Bay</td>\n",
       "      <td>10</td>\n",
       "      <td>AU</td>\n",
       "      <td>1621730657</td>\n",
       "      <td>77</td>\n",
       "      <td>-25.2986</td>\n",
       "      <td>152.8535</td>\n",
       "      <td>71.01</td>\n",
       "      <td>5.99</td>\n",
       "    </tr>\n",
       "    <tr>\n",
       "      <th>2</th>\n",
       "      <td>Port Elizabeth</td>\n",
       "      <td>0</td>\n",
       "      <td>ZA</td>\n",
       "      <td>1621730289</td>\n",
       "      <td>76</td>\n",
       "      <td>-33.9180</td>\n",
       "      <td>25.5701</td>\n",
       "      <td>50.00</td>\n",
       "      <td>5.75</td>\n",
       "    </tr>\n",
       "    <tr>\n",
       "      <th>3</th>\n",
       "      <td>Rio Bananal</td>\n",
       "      <td>100</td>\n",
       "      <td>BR</td>\n",
       "      <td>1621730658</td>\n",
       "      <td>83</td>\n",
       "      <td>-19.2650</td>\n",
       "      <td>-40.3333</td>\n",
       "      <td>69.64</td>\n",
       "      <td>2.66</td>\n",
       "    </tr>\n",
       "    <tr>\n",
       "      <th>4</th>\n",
       "      <td>Roald</td>\n",
       "      <td>13</td>\n",
       "      <td>NO</td>\n",
       "      <td>1621730658</td>\n",
       "      <td>100</td>\n",
       "      <td>62.5833</td>\n",
       "      <td>6.1333</td>\n",
       "      <td>51.33</td>\n",
       "      <td>10.36</td>\n",
       "    </tr>\n",
       "  </tbody>\n",
       "</table>\n",
       "</div>"
      ],
      "text/plain": [
       "             City  Cloudiness Country        Date  Humidity  Latitude  \\\n",
       "0       Carnarvon          64      AU  1621730185        64  -24.8667   \n",
       "1      Hervey Bay          10      AU  1621730657        77  -25.2986   \n",
       "2  Port Elizabeth           0      ZA  1621730289        76  -33.9180   \n",
       "3     Rio Bananal         100      BR  1621730658        83  -19.2650   \n",
       "4           Roald          13      NO  1621730658       100   62.5833   \n",
       "\n",
       "   Longitude  Max Temp  Wind Speed  \n",
       "0   113.6333     73.47       11.50  \n",
       "1   152.8535     71.01        5.99  \n",
       "2    25.5701     50.00        5.75  \n",
       "3   -40.3333     69.64        2.66  \n",
       "4     6.1333     51.33       10.36  "
      ]
     },
     "execution_count": 4,
     "metadata": {},
     "output_type": "execute_result"
    }
   ],
   "source": [
    "#Creating a Date Frame\n",
    "city_data_df = pd.DataFrame({\"City\": city_name, \"Cloudiness\" : cloudy_list,\n",
    "                 \"Country\": country_list, \"Date\": dates,\n",
    "                 \"Humidity\": humidity, \"Latitude\": lats_list,\n",
    "                 \"Longitude\": lngs_list,\"Max Temp\": max_temp,\n",
    "                 \"Wind Speed\": wind_speed})\n",
    "\n",
    "#Exporting the data to a csv file\n",
    "city_data_df.to_csv(\"../output_data/city_data.csv\")\n",
    "\n",
    "#Dataframe\n",
    "city_data_df.head()"
   ]
  },
  {
   "cell_type": "markdown",
   "metadata": {},
   "source": [
    "## Inspect the data and remove the cities where the humidity > 100%.\n",
    "----\n",
    "Skip this step if there are no cities that have humidity > 100%. "
   ]
  },
  {
   "cell_type": "code",
   "execution_count": 5,
   "metadata": {},
   "outputs": [
    {
     "data": {
      "text/html": [
       "<div>\n",
       "<style scoped>\n",
       "    .dataframe tbody tr th:only-of-type {\n",
       "        vertical-align: middle;\n",
       "    }\n",
       "\n",
       "    .dataframe tbody tr th {\n",
       "        vertical-align: top;\n",
       "    }\n",
       "\n",
       "    .dataframe thead th {\n",
       "        text-align: right;\n",
       "    }\n",
       "</style>\n",
       "<table border=\"1\" class=\"dataframe\">\n",
       "  <thead>\n",
       "    <tr style=\"text-align: right;\">\n",
       "      <th></th>\n",
       "      <th>City</th>\n",
       "      <th>Cloudiness</th>\n",
       "      <th>Country</th>\n",
       "      <th>Date</th>\n",
       "      <th>Humidity</th>\n",
       "      <th>Latitude</th>\n",
       "      <th>Longitude</th>\n",
       "      <th>Max Temp</th>\n",
       "      <th>Wind Speed</th>\n",
       "    </tr>\n",
       "  </thead>\n",
       "  <tbody>\n",
       "  </tbody>\n",
       "</table>\n",
       "</div>"
      ],
      "text/plain": [
       "Empty DataFrame\n",
       "Columns: [City, Cloudiness, Country, Date, Humidity, Latitude, Longitude, Max Temp, Wind Speed]\n",
       "Index: []"
      ]
     },
     "execution_count": 5,
     "metadata": {},
     "output_type": "execute_result"
    }
   ],
   "source": [
    "#  Get the indices of cities that have humidity over 100%.\n",
    "data_df = pd.DataFrame({\"City\": city_name, \"Cloudiness\" : cloudy_list,\n",
    "                 \"Country\": country_list, \"Date\": dates,\n",
    "                 \"Humidity\": humidity, \"Latitude\": lats_list,\n",
    "                 \"Longitude\": lngs_list,\"Max Temp\": max_temp,\n",
    "                 \"Wind Speed\": wind_speed})\n",
    "\n",
    "filtered_df = data_df[data_df[\"Humidity\"] > 101]\n",
    "\n",
    "\n",
    "filtered_df.head()"
   ]
  },
  {
   "cell_type": "markdown",
   "metadata": {},
   "source": [
    "## Plotting the Data\n",
    "* Use proper labeling of the plots using plot titles (including date of analysis) and axes labels.\n",
    "* Save the plotted figures as .pngs."
   ]
  },
  {
   "cell_type": "code",
   "execution_count": 6,
   "metadata": {},
   "outputs": [
    {
     "data": {
      "text/html": [
       "<div>\n",
       "<style scoped>\n",
       "    .dataframe tbody tr th:only-of-type {\n",
       "        vertical-align: middle;\n",
       "    }\n",
       "\n",
       "    .dataframe tbody tr th {\n",
       "        vertical-align: top;\n",
       "    }\n",
       "\n",
       "    .dataframe thead th {\n",
       "        text-align: right;\n",
       "    }\n",
       "</style>\n",
       "<table border=\"1\" class=\"dataframe\">\n",
       "  <thead>\n",
       "    <tr style=\"text-align: right;\">\n",
       "      <th></th>\n",
       "      <th>City</th>\n",
       "      <th>Cloudiness</th>\n",
       "      <th>Country</th>\n",
       "      <th>Date</th>\n",
       "      <th>Humidity</th>\n",
       "      <th>Latitude</th>\n",
       "      <th>Longitude</th>\n",
       "      <th>Max Temp</th>\n",
       "      <th>Wind Speed</th>\n",
       "    </tr>\n",
       "  </thead>\n",
       "  <tbody>\n",
       "    <tr>\n",
       "      <th>0</th>\n",
       "      <td>Carnarvon</td>\n",
       "      <td>64</td>\n",
       "      <td>AU</td>\n",
       "      <td>1621730185</td>\n",
       "      <td>64</td>\n",
       "      <td>-24.8667</td>\n",
       "      <td>113.6333</td>\n",
       "      <td>73.47</td>\n",
       "      <td>11.50</td>\n",
       "    </tr>\n",
       "    <tr>\n",
       "      <th>1</th>\n",
       "      <td>Hervey Bay</td>\n",
       "      <td>10</td>\n",
       "      <td>AU</td>\n",
       "      <td>1621730657</td>\n",
       "      <td>77</td>\n",
       "      <td>-25.2986</td>\n",
       "      <td>152.8535</td>\n",
       "      <td>71.01</td>\n",
       "      <td>5.99</td>\n",
       "    </tr>\n",
       "    <tr>\n",
       "      <th>2</th>\n",
       "      <td>Port Elizabeth</td>\n",
       "      <td>0</td>\n",
       "      <td>ZA</td>\n",
       "      <td>1621730289</td>\n",
       "      <td>76</td>\n",
       "      <td>-33.9180</td>\n",
       "      <td>25.5701</td>\n",
       "      <td>50.00</td>\n",
       "      <td>5.75</td>\n",
       "    </tr>\n",
       "    <tr>\n",
       "      <th>3</th>\n",
       "      <td>Rio Bananal</td>\n",
       "      <td>100</td>\n",
       "      <td>BR</td>\n",
       "      <td>1621730658</td>\n",
       "      <td>83</td>\n",
       "      <td>-19.2650</td>\n",
       "      <td>-40.3333</td>\n",
       "      <td>69.64</td>\n",
       "      <td>2.66</td>\n",
       "    </tr>\n",
       "    <tr>\n",
       "      <th>4</th>\n",
       "      <td>Roald</td>\n",
       "      <td>13</td>\n",
       "      <td>NO</td>\n",
       "      <td>1621730658</td>\n",
       "      <td>100</td>\n",
       "      <td>62.5833</td>\n",
       "      <td>6.1333</td>\n",
       "      <td>51.33</td>\n",
       "      <td>10.36</td>\n",
       "    </tr>\n",
       "  </tbody>\n",
       "</table>\n",
       "</div>"
      ],
      "text/plain": [
       "             City  Cloudiness Country        Date  Humidity  Latitude  \\\n",
       "0       Carnarvon          64      AU  1621730185        64  -24.8667   \n",
       "1      Hervey Bay          10      AU  1621730657        77  -25.2986   \n",
       "2  Port Elizabeth           0      ZA  1621730289        76  -33.9180   \n",
       "3     Rio Bananal         100      BR  1621730658        83  -19.2650   \n",
       "4           Roald          13      NO  1621730658       100   62.5833   \n",
       "\n",
       "   Longitude  Max Temp  Wind Speed  \n",
       "0   113.6333     73.47       11.50  \n",
       "1   152.8535     71.01        5.99  \n",
       "2    25.5701     50.00        5.75  \n",
       "3   -40.3333     69.64        2.66  \n",
       "4     6.1333     51.33       10.36  "
      ]
     },
     "execution_count": 6,
     "metadata": {},
     "output_type": "execute_result"
    }
   ],
   "source": [
    "city_data_df.head()"
   ]
  },
  {
   "cell_type": "markdown",
   "metadata": {},
   "source": [
    "## Latitude vs. Temperature Plot"
   ]
  },
  {
   "cell_type": "code",
   "execution_count": 9,
   "metadata": {
    "scrolled": true
   },
   "outputs": [
    {
     "data": {
      "image/png": "[encoded data removed]",
      "text/plain": [
       "<Figure size 432x288 with 1 Axes>"
      ]
     },
     "metadata": {
      "needs_background": "light"
     },
     "output_type": "display_data"
    }
   ],
   "source": [
    "copy_city_data_df = city_data_df.copy()\n",
    "\n",
    "# Plot Latitude vs. Max Temperature on a scatterplot\n",
    "plt.scatter(copy_city_data_df[\"Latitude\"], copy_city_data_df[\"Max Temp\"], marker = \"o\", color = \"blue\", edgecolor = \"black\")\n",
    "plt.grid()\n",
    "plt.xlabel(\"Latitude\")\n",
    "plt.ylabel(\"Max Temperature (F)\")\n",
    "plt.title(\"City Latitude vs. Max Temperature (05/19/2021)\")\n",
    "plt.savefig(\"../output_data/Latitudevs.Temperature Plot.png\")\n",
    "plt.show()"
   ]
  },
  {
   "cell_type": "markdown",
   "metadata": {},
   "source": [
    "## Latitude vs. Humidity Plot"
   ]
  },
  {
   "cell_type": "code",
   "execution_count": 10,
   "metadata": {},
   "outputs": [
    {
     "data": {
      "image/png": "[encoded data removed]",
      "text/plain": [
       "<Figure size 432x288 with 1 Axes>"
      ]
     },
     "metadata": {
      "needs_background": "light"
     },
     "output_type": "display_data"
    }
   ],
   "source": [
    "# Plot Latitude vs. Humidity on a scatterplot\n",
    "plt.scatter(copy_city_data_df[\"Latitude\"], copy_city_data_df[\"Humidity\"], marker = \"o\", color = \"yellow\", edgecolor = \"black\")\n",
    "plt.grid()\n",
    "plt.xlabel(\"Latitude\")\n",
    "plt.ylabel(\"Humidity (%)\")\n",
    "plt.title(\"City Latitude vs. Humidity (05/19/2021)\")\n",
    "plt.savefig(\"../output_data/Latitude vs.Humidity Plot.png\")\n",
    "plt.show()"
   ]
  },
  {
   "cell_type": "markdown",
   "metadata": {},
   "source": [
    "## Latitude vs. Cloudiness Plot"
   ]
  },
  {
   "cell_type": "code",
   "execution_count": 11,
   "metadata": {},
   "outputs": [
    {
     "data": {
      "image/png": "[encoded data removed]",
      "text/plain": [
       "<Figure size 432x288 with 1 Axes>"
      ]
     },
     "metadata": {
      "needs_background": "light"
     },
     "output_type": "display_data"
    }
   ],
   "source": [
    "# Plot Latitude vs. Cloudiness on a scatterplot\n",
    "plt.scatter(copy_city_data_df[\"Latitude\"], copy_city_data_df[\"Cloudiness\"], marker = \"o\", color = \"indigo\", edgecolor = \"black\")\n",
    "plt.grid()\n",
    "plt.xlabel(\"Latitude\")\n",
    "plt.ylabel(\"Cloudniness (%)\")\n",
    "plt.title(\"City Latitude vs. Cloudiness (05/19/2021)\")\n",
    "plt.savefig(\"../output_data/Latitude vs.Cloudiness Plot.png\")\n",
    "plt.show()"
   ]
  },
  {
   "cell_type": "markdown",
   "metadata": {},
   "source": [
    "## Latitude vs. Wind Speed Plot"
   ]
  },
  {
   "cell_type": "code",
   "execution_count": 12,
   "metadata": {},
   "outputs": [
    {
     "data": {
      "image/png": "[encoded data removed]",
      "text/plain": [
       "<Figure size 432x288 with 1 Axes>"
      ]
     },
     "metadata": {
      "needs_background": "light"
     },
     "output_type": "display_data"
    }
   ],
   "source": [
    "# Plot Latitude vs. Wind Speed on a scatterplot\n",
    "plt.scatter(copy_city_data_df[\"Latitude\"], copy_city_data_df[\"Wind Speed\"], marker = \"o\", color = \"green\", edgecolor = \"black\")\n",
    "plt.grid()\n",
    "plt.xlabel(\"Latitude\")\n",
    "plt.ylabel(\"Wind Speed (mph)\")\n",
    "plt.title(\"City Latitude vs. Wind Speed (05/19/2021)\")\n",
    "plt.savefig(\"../output_data/Latitude vs.Wind Speed Plot.png\")\n",
    "plt.show()"
   ]
  },
  {
   "cell_type": "markdown",
   "metadata": {},
   "source": [
    "## Linear Regression"
   ]
  },
  {
   "cell_type": "code",
   "execution_count": 13,
   "metadata": {},
   "outputs": [],
   "source": [
    "North_Hemisphere = city_data_df.loc[city_data_df[\"Latitude\"]>0]\n",
    "South_Hemisphere = city_data_df.loc[city_data_df[\"Latitude\"]<0]"
   ]
  },
  {
   "cell_type": "code",
   "execution_count": 14,
   "metadata": {},
   "outputs": [
    {
     "data": {
      "text/html": [
       "<div>\n",
       "<style scoped>\n",
       "    .dataframe tbody tr th:only-of-type {\n",
       "        vertical-align: middle;\n",
       "    }\n",
       "\n",
       "    .dataframe tbody tr th {\n",
       "        vertical-align: top;\n",
       "    }\n",
       "\n",
       "    .dataframe thead th {\n",
       "        text-align: right;\n",
       "    }\n",
       "</style>\n",
       "<table border=\"1\" class=\"dataframe\">\n",
       "  <thead>\n",
       "    <tr style=\"text-align: right;\">\n",
       "      <th></th>\n",
       "      <th>City</th>\n",
       "      <th>Cloudiness</th>\n",
       "      <th>Country</th>\n",
       "      <th>Date</th>\n",
       "      <th>Humidity</th>\n",
       "      <th>Latitude</th>\n",
       "      <th>Longitude</th>\n",
       "      <th>Max Temp</th>\n",
       "      <th>Wind Speed</th>\n",
       "    </tr>\n",
       "  </thead>\n",
       "  <tbody>\n",
       "    <tr>\n",
       "      <th>4</th>\n",
       "      <td>Roald</td>\n",
       "      <td>13</td>\n",
       "      <td>NO</td>\n",
       "      <td>1621730658</td>\n",
       "      <td>100</td>\n",
       "      <td>62.5833</td>\n",
       "      <td>6.1333</td>\n",
       "      <td>51.33</td>\n",
       "      <td>10.36</td>\n",
       "    </tr>\n",
       "    <tr>\n",
       "      <th>5</th>\n",
       "      <td>Bogdăniţa</td>\n",
       "      <td>100</td>\n",
       "      <td>RO</td>\n",
       "      <td>1621730659</td>\n",
       "      <td>74</td>\n",
       "      <td>46.4500</td>\n",
       "      <td>27.6833</td>\n",
       "      <td>58.91</td>\n",
       "      <td>1.81</td>\n",
       "    </tr>\n",
       "    <tr>\n",
       "      <th>9</th>\n",
       "      <td>Upernavik</td>\n",
       "      <td>43</td>\n",
       "      <td>GL</td>\n",
       "      <td>1621730225</td>\n",
       "      <td>92</td>\n",
       "      <td>72.7868</td>\n",
       "      <td>-56.1549</td>\n",
       "      <td>25.88</td>\n",
       "      <td>9.01</td>\n",
       "    </tr>\n",
       "    <tr>\n",
       "      <th>10</th>\n",
       "      <td>Provideniya</td>\n",
       "      <td>100</td>\n",
       "      <td>RU</td>\n",
       "      <td>1621730231</td>\n",
       "      <td>73</td>\n",
       "      <td>64.3833</td>\n",
       "      <td>-173.3000</td>\n",
       "      <td>38.17</td>\n",
       "      <td>5.50</td>\n",
       "    </tr>\n",
       "    <tr>\n",
       "      <th>11</th>\n",
       "      <td>Lavrentiya</td>\n",
       "      <td>21</td>\n",
       "      <td>RU</td>\n",
       "      <td>1621730222</td>\n",
       "      <td>88</td>\n",
       "      <td>65.5833</td>\n",
       "      <td>-171.0000</td>\n",
       "      <td>33.15</td>\n",
       "      <td>2.08</td>\n",
       "    </tr>\n",
       "  </tbody>\n",
       "</table>\n",
       "</div>"
      ],
      "text/plain": [
       "           City  Cloudiness Country        Date  Humidity  Latitude  \\\n",
       "4         Roald          13      NO  1621730658       100   62.5833   \n",
       "5     Bogdăniţa         100      RO  1621730659        74   46.4500   \n",
       "9     Upernavik          43      GL  1621730225        92   72.7868   \n",
       "10  Provideniya         100      RU  1621730231        73   64.3833   \n",
       "11   Lavrentiya          21      RU  1621730222        88   65.5833   \n",
       "\n",
       "    Longitude  Max Temp  Wind Speed  \n",
       "4      6.1333     51.33       10.36  \n",
       "5     27.6833     58.91        1.81  \n",
       "9    -56.1549     25.88        9.01  \n",
       "10  -173.3000     38.17        5.50  \n",
       "11  -171.0000     33.15        2.08  "
      ]
     },
     "execution_count": 14,
     "metadata": {},
     "output_type": "execute_result"
    }
   ],
   "source": [
    "North_Hemisphere.head()"
   ]
  },
  {
   "cell_type": "code",
   "execution_count": 15,
   "metadata": {},
   "outputs": [
    {
     "data": {
      "text/html": [
       "<div>\n",
       "<style scoped>\n",
       "    .dataframe tbody tr th:only-of-type {\n",
       "        vertical-align: middle;\n",
       "    }\n",
       "\n",
       "    .dataframe tbody tr th {\n",
       "        vertical-align: top;\n",
       "    }\n",
       "\n",
       "    .dataframe thead th {\n",
       "        text-align: right;\n",
       "    }\n",
       "</style>\n",
       "<table border=\"1\" class=\"dataframe\">\n",
       "  <thead>\n",
       "    <tr style=\"text-align: right;\">\n",
       "      <th></th>\n",
       "      <th>City</th>\n",
       "      <th>Cloudiness</th>\n",
       "      <th>Country</th>\n",
       "      <th>Date</th>\n",
       "      <th>Humidity</th>\n",
       "      <th>Latitude</th>\n",
       "      <th>Longitude</th>\n",
       "      <th>Max Temp</th>\n",
       "      <th>Wind Speed</th>\n",
       "    </tr>\n",
       "  </thead>\n",
       "  <tbody>\n",
       "    <tr>\n",
       "      <th>0</th>\n",
       "      <td>Carnarvon</td>\n",
       "      <td>64</td>\n",
       "      <td>AU</td>\n",
       "      <td>1621730185</td>\n",
       "      <td>64</td>\n",
       "      <td>-24.8667</td>\n",
       "      <td>113.6333</td>\n",
       "      <td>73.47</td>\n",
       "      <td>11.50</td>\n",
       "    </tr>\n",
       "    <tr>\n",
       "      <th>1</th>\n",
       "      <td>Hervey Bay</td>\n",
       "      <td>10</td>\n",
       "      <td>AU</td>\n",
       "      <td>1621730657</td>\n",
       "      <td>77</td>\n",
       "      <td>-25.2986</td>\n",
       "      <td>152.8535</td>\n",
       "      <td>71.01</td>\n",
       "      <td>5.99</td>\n",
       "    </tr>\n",
       "    <tr>\n",
       "      <th>2</th>\n",
       "      <td>Port Elizabeth</td>\n",
       "      <td>0</td>\n",
       "      <td>ZA</td>\n",
       "      <td>1621730289</td>\n",
       "      <td>76</td>\n",
       "      <td>-33.9180</td>\n",
       "      <td>25.5701</td>\n",
       "      <td>50.00</td>\n",
       "      <td>5.75</td>\n",
       "    </tr>\n",
       "    <tr>\n",
       "      <th>3</th>\n",
       "      <td>Rio Bananal</td>\n",
       "      <td>100</td>\n",
       "      <td>BR</td>\n",
       "      <td>1621730658</td>\n",
       "      <td>83</td>\n",
       "      <td>-19.2650</td>\n",
       "      <td>-40.3333</td>\n",
       "      <td>69.64</td>\n",
       "      <td>2.66</td>\n",
       "    </tr>\n",
       "    <tr>\n",
       "      <th>6</th>\n",
       "      <td>Rocha</td>\n",
       "      <td>100</td>\n",
       "      <td>UY</td>\n",
       "      <td>1621730659</td>\n",
       "      <td>77</td>\n",
       "      <td>-34.4833</td>\n",
       "      <td>-54.3333</td>\n",
       "      <td>52.50</td>\n",
       "      <td>16.96</td>\n",
       "    </tr>\n",
       "  </tbody>\n",
       "</table>\n",
       "</div>"
      ],
      "text/plain": [
       "             City  Cloudiness Country        Date  Humidity  Latitude  \\\n",
       "0       Carnarvon          64      AU  1621730185        64  -24.8667   \n",
       "1      Hervey Bay          10      AU  1621730657        77  -25.2986   \n",
       "2  Port Elizabeth           0      ZA  1621730289        76  -33.9180   \n",
       "3     Rio Bananal         100      BR  1621730658        83  -19.2650   \n",
       "6           Rocha         100      UY  1621730659        77  -34.4833   \n",
       "\n",
       "   Longitude  Max Temp  Wind Speed  \n",
       "0   113.6333     73.47       11.50  \n",
       "1   152.8535     71.01        5.99  \n",
       "2    25.5701     50.00        5.75  \n",
       "3   -40.3333     69.64        2.66  \n",
       "6   -54.3333     52.50       16.96  "
      ]
     },
     "execution_count": 15,
     "metadata": {},
     "output_type": "execute_result"
    }
   ],
   "source": [
    "South_Hemisphere.head()"
   ]
  },
  {
   "cell_type": "markdown",
   "metadata": {},
   "source": [
    "####  Northern Hemisphere - Max Temp vs. Latitude Linear Regression"
   ]
  },
  {
   "cell_type": "code",
   "execution_count": 24,
   "metadata": {},
   "outputs": [
    {
     "data": {
      "image/png": "[encoded data removed]",
      "text/plain": [
       "<Figure size 432x288 with 1 Axes>"
      ]
     },
     "metadata": {
      "needs_background": "light"
     },
     "output_type": "display_data"
    },
    {
     "name": "stdout",
     "output_type": "stream",
     "text": [
      "The r-squared for is: 0.6446831168676653\n"
     ]
    }
   ],
   "source": [
    "# Add the linear regression equation and line to plot for Northern Hemisphere - Max Temp vs. Latitude Linear Regression\n",
    "x_values = North_Hemisphere['Latitude']\n",
    "y_values = North_Hemisphere['Max Temp']\n",
    "(slope, intercept, rvalue, pvalue, stderr) = linregress(x_values, y_values)\n",
    "regress_values = x_values * slope + intercept\n",
    "line_eq = \"y = \" + str(round(slope,2)) + \"x + \" + str(round(intercept,2))\n",
    "plt.scatter(x_values,y_values)\n",
    "plt.plot(x_values,regress_values,\"r-\")\n",
    "plt.annotate(line_eq,(5,30),fontsize=15,color=\"red\")\n",
    "plt.xlabel('Latitude')\n",
    "plt.ylabel('Max Temp')\n",
    "plt.savefig(\"../output_data/North_Hemisphere-Max-Temp.vs.Lat.png\")\n",
    "plt.show()\n",
    "print(f\"The r-squared for is: {rvalue**2}\")"
   ]
  },
  {
   "cell_type": "markdown",
   "metadata": {},
   "source": [
    "####  Southern Hemisphere - Max Temp vs. Latitude Linear Regression"
   ]
  },
  {
   "cell_type": "code",
   "execution_count": 25,
   "metadata": {},
   "outputs": [
    {
     "data": {
      "image/png": "[encoded data removed]",
      "text/plain": [
       "<Figure size 432x288 with 1 Axes>"
      ]
     },
     "metadata": {
      "needs_background": "light"
     },
     "output_type": "display_data"
    },
    {
     "name": "stdout",
     "output_type": "stream",
     "text": [
      "The r-squared is: 0.5804072653700421\n"
     ]
    }
   ],
   "source": [
    "# Add the linear regression equation and line to plot for Souhern Hemisphere - Max Temp vs. Latitude Linear Regression\n",
    "x_values = South_Hemisphere['Latitude']\n",
    "y_values = South_Hemisphere['Max Temp']\n",
    "(slope, intercept, rvalue, pvalue, stderr) = linregress(x_values, y_values)\n",
    "regress_values = x_values * slope + intercept\n",
    "line_eq = \"y = \" + str(round(slope,2)) + \"x + \" + str(round(intercept,2))\n",
    "plt.scatter(x_values,y_values)\n",
    "plt.plot(x_values,regress_values,\"r-\")\n",
    "plt.annotate(line_eq,(-25,42),fontsize=15,color=\"red\")\n",
    "plt.xlabel('Latitude')\n",
    "plt.ylabel('Max Temp')\n",
    "plt.savefig(\"../output_data/South_Hemisphere-Max-Temp.vs.Lat.png\")\n",
    "plt.show()\n",
    "print(f\"The r-squared is: {rvalue**2}\")"
   ]
  },
  {
   "cell_type": "markdown",
   "metadata": {},
   "source": [
    "####  Northern Hemisphere - Humidity (%) vs. Latitude Linear Regression"
   ]
  },
  {
   "cell_type": "code",
   "execution_count": 26,
   "metadata": {},
   "outputs": [
    {
     "data": {
      "image/png": "[encoded data removed]",
      "text/plain": [
       "<Figure size 432x288 with 1 Axes>"
      ]
     },
     "metadata": {
      "needs_background": "light"
     },
     "output_type": "display_data"
    },
    {
     "name": "stdout",
     "output_type": "stream",
     "text": [
      "The r-squared is: 1.4736420178570219e-05\n"
     ]
    }
   ],
   "source": [
    "# Add the linear regression equation and line to plot for Northern Hemisphere - Humidity vs. Latitude Linear Regression\n",
    "x_values = North_Hemisphere['Latitude']\n",
    "y_values = North_Hemisphere['Humidity']\n",
    "(slope, intercept, rvalue, pvalue, stderr) = linregress(x_values, y_values)\n",
    "regress_values = x_values * slope + intercept\n",
    "line_eq = \"y = \" + str(round(slope,2)) + \"x + \" + str(round(intercept,2))\n",
    "plt.scatter(x_values,y_values)\n",
    "plt.plot(x_values,regress_values,\"r-\")\n",
    "plt.annotate(line_eq,(42,5),fontsize=15,color=\"red\")\n",
    "plt.xlabel('Latitude')\n",
    "plt.ylabel('Humidity')\n",
    "plt.savefig(\"../output_data/North_Hemisphere-Humidity.vs.Lat.png\")\n",
    "plt.show()\n",
    "print(f\"The r-squared is: {rvalue**2}\")"
   ]
  },
  {
   "cell_type": "markdown",
   "metadata": {},
   "source": [
    "####  Southern Hemisphere - Humidity (%) vs. Latitude Linear Regression"
   ]
  },
  {
   "cell_type": "code",
   "execution_count": 27,
   "metadata": {},
   "outputs": [
    {
     "data": {
      "image/png": "[encoded data removed]",
      "text/plain": [
       "<Figure size 432x288 with 1 Axes>"
      ]
     },
     "metadata": {
      "needs_background": "light"
     },
     "output_type": "display_data"
    },
    {
     "name": "stdout",
     "output_type": "stream",
     "text": [
      "The r-squared for is: 0.03699369336334768\n"
     ]
    }
   ],
   "source": [
    "# Add the linear regression equation and line to plot for Souhern Hemisphere - Humidity vs. Latitude Linear Regression\n",
    "x_values = South_Hemisphere['Latitude']\n",
    "y_values = South_Hemisphere['Humidity']\n",
    "(slope, intercept, rvalue, pvalue, stderr) = linregress(x_values, y_values)\n",
    "regress_values = x_values * slope + intercept\n",
    "line_eq = \"y = \" + str(round(slope,2)) + \"x + \" + str(round(intercept,2))\n",
    "plt.scatter(x_values,y_values)\n",
    "plt.plot(x_values,regress_values,\"r-\")\n",
    "plt.annotate(line_eq,(-55,25),fontsize=15,color=\"red\")\n",
    "plt.xlabel('Latitude')\n",
    "plt.ylabel('Humidity')\n",
    "plt.savefig(\"../output_data/South_Hemisphere-Humidity.vs.Lat.png\")\n",
    "plt.show()\n",
    "print(f\"The r-squared for is: {rvalue**2}\")"
   ]
  },
  {
   "cell_type": "markdown",
   "metadata": {},
   "source": [
    "####  Northern Hemisphere - Cloudiness (%) vs. Latitude Linear Regression"
   ]
  },
  {
   "cell_type": "code",
   "execution_count": 28,
   "metadata": {},
   "outputs": [
    {
     "data": {
      "image/png": "[encoded data removed]",
      "text/plain": [
       "<Figure size 432x288 with 1 Axes>"
      ]
     },
     "metadata": {
      "needs_background": "light"
     },
     "output_type": "display_data"
    },
    {
     "name": "stdout",
     "output_type": "stream",
     "text": [
      "The r-squared is: 0.003968123396480917\n"
     ]
    }
   ],
   "source": [
    "# Add the linear regression equation and line to plot for Northern Hemisphere - Cloudiness vs. Latitude Linear Regression\n",
    "x_values = North_Hemisphere['Latitude']\n",
    "y_values = North_Hemisphere['Cloudiness']\n",
    "(slope, intercept, rvalue, pvalue, stderr) = linregress(x_values, y_values)\n",
    "regress_values = x_values * slope + intercept\n",
    "line_eq = \"y = \" + str(round(slope,2)) + \"x + \" + str(round(intercept,2))\n",
    "plt.scatter(x_values,y_values)\n",
    "plt.plot(x_values,regress_values,\"r-\")\n",
    "plt.annotate(line_eq,(45,45),fontsize=15,color=\"red\")\n",
    "plt.xlabel('Latitude')\n",
    "plt.ylabel('Cloudiness')\n",
    "plt.savefig(\"../output_data/North-Hemi-Linear_Cloudiness-vs-Lat.png\")\n",
    "plt.show()\n",
    "print(f\"The r-squared is: {rvalue**2}\")"
   ]
  },
  {
   "cell_type": "markdown",
   "metadata": {},
   "source": [
    "####  Southern Hemisphere - Cloudiness (%) vs. Latitude Linear Regression"
   ]
  },
  {
   "cell_type": "code",
   "execution_count": 29,
   "metadata": {},
   "outputs": [
    {
     "data": {
      "image/png": "[encoded data removed]",
      "text/plain": [
       "<Figure size 432x288 with 1 Axes>"
      ]
     },
     "metadata": {
      "needs_background": "light"
     },
     "output_type": "display_data"
    },
    {
     "name": "stdout",
     "output_type": "stream",
     "text": [
      "The r-squared is: 0.08178256162034603\n"
     ]
    }
   ],
   "source": [
    "# Add the linear regression equation and line to plot for Southern Hemisphere - Cloudiness vs. Latitude Linear Regression\n",
    "x_values = South_Hemisphere['Latitude']\n",
    "y_values = South_Hemisphere['Cloudiness']\n",
    "(slope, intercept, rvalue, pvalue, stderr) = linregress(x_values, y_values)\n",
    "regress_values = x_values * slope + intercept\n",
    "line_eq = \"y = \" + str(round(slope,2)) + \"x + \" + str(round(intercept,2))\n",
    "plt.scatter(x_values,y_values)\n",
    "plt.plot(x_values,regress_values,\"r-\")\n",
    "plt.annotate(line_eq,(-55,55),fontsize=15,color=\"red\")\n",
    "plt.xlabel('Latitude')\n",
    "plt.ylabel('Cloudiness')\n",
    "plt.savefig(\"../output_data/South-Hemi-Linear_Cloudiness-vs-Lat.png\")\n",
    "plt.show()\n",
    "print(f\"The r-squared is: {rvalue**2}\")"
   ]
  },
  {
   "cell_type": "markdown",
   "metadata": {},
   "source": [
    "####  Northern Hemisphere - Wind Speed (mph) vs. Latitude Linear Regression"
   ]
  },
  {
   "cell_type": "code",
   "execution_count": 30,
   "metadata": {},
   "outputs": [
    {
     "data": {
      "image/png": "[encoded data removed]",
      "text/plain": [
       "<Figure size 432x288 with 1 Axes>"
      ]
     },
     "metadata": {
      "needs_background": "light"
     },
     "output_type": "display_data"
    },
    {
     "name": "stdout",
     "output_type": "stream",
     "text": [
      "The r-squared is: 0.0004002495154490755\n"
     ]
    }
   ],
   "source": [
    "# Add the linear regression equation and line to plot for Northern Hemisphere - Wind Speed (mph) vs. Latitude Linear Regression\n",
    "x_values = North_Hemisphere['Latitude']\n",
    "y_values = North_Hemisphere['Wind Speed']\n",
    "(slope, intercept, rvalue, pvalue, stderr) = linregress(x_values, y_values)\n",
    "regress_values = x_values * slope + intercept\n",
    "line_eq = \"y = \" + str(round(slope,2)) + \"x + \" + str(round(intercept,2))\n",
    "plt.scatter(x_values,y_values)\n",
    "plt.plot(x_values,regress_values,\"r-\")\n",
    "plt.annotate(line_eq,(32,24),fontsize=15,color=\"red\")\n",
    "plt.xlabel('Latitude')\n",
    "plt.ylabel('Wind Speed (mph)')\n",
    "plt.savefig(\"../output_data/North-Hemi-Linear_Wind-Speed-vs-Lat.png\")\n",
    "plt.show()\n",
    "print(f\"The r-squared is: {rvalue**2}\")"
   ]
  },
  {
   "cell_type": "markdown",
   "metadata": {},
   "source": [
    "####  Southern Hemisphere - Wind Speed (mph) vs. Latitude Linear Regression"
   ]
  },
  {
   "cell_type": "code",
   "execution_count": 31,
   "metadata": {
    "scrolled": true
   },
   "outputs": [
    {
     "data": {
      "image/png": "[encoded data removed]",
      "text/plain": [
       "<Figure size 432x288 with 1 Axes>"
      ]
     },
     "metadata": {
      "needs_background": "light"
     },
     "output_type": "display_data"
    },
    {
     "name": "stdout",
     "output_type": "stream",
     "text": [
      "The r-squared is: 0.04844030368784126\n"
     ]
    }
   ],
   "source": [
    "# Add the linear regression equation and line to plot for Southern Hemisphere - Wind Speed (mph) vs. Latitude Linear Regression\n",
    "x_values = South_Hemisphere['Latitude']\n",
    "y_values = South_Hemisphere['Wind Speed']\n",
    "(slope, intercept, rvalue, pvalue, stderr) = linregress(x_values, y_values)\n",
    "regress_values = x_values * slope + intercept\n",
    "line_eq = \"y = \" + str(round(slope,2)) + \"x + \" + str(round(intercept,2))\n",
    "plt.scatter(x_values,y_values)\n",
    "plt.plot(x_values,regress_values,\"r-\")\n",
    "plt.annotate(line_eq,(-30,23),fontsize=15,color=\"red\")\n",
    "plt.xlabel('Latitude')\n",
    "plt.ylabel('Wind Speed (mph)')\n",
    "plt.savefig(\"../output_data/South-Hemi-Linear_Wind-Speed-vs-Lat.png\")\n",
    "plt.show()\n",
    "print(f\"The r-squared is: {rvalue**2}\")"
   ]
  },
  {
   "cell_type": "code",
   "execution_count": null,
   "metadata": {},
   "outputs": [],
   "source": []
  }
 ],
 "metadata": {
  "anaconda-cloud": {},
  "kernel_info": {
   "name": "python3"
  },
  "kernelspec": {
   "display_name": "Python 3",
   "language": "python",
   "name": "python3"
  },
  "latex_envs": {
   "LaTeX_envs_menu_present": true,
   "autoclose": false,
   "autocomplete": true,
   "bibliofile": "biblio.bib",
   "cite_by": "apalike",
   "current_citInitial": 1,
   "eqLabelWithNumbers": true,
   "eqNumInitial": 1,
   "hotkeys": {
    "equation": "Ctrl-E",
    "itemize": "Ctrl-I"
   },
   "labels_anchors": false,
   "latex_user_defs": false,
   "report_style_numbering": false,
   "user_envs_cfg": false
  },
  "nteract": {
   "version": "0.12.3"
  }
 },
 "nbformat": 4,
 "nbformat_minor": 2
}
